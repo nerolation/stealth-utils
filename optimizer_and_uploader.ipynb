{
 "cells": [
  {
   "cell_type": "code",
   "execution_count": null,
   "id": "e4eaa603",
   "metadata": {},
   "outputs": [],
   "source": [
    "import time\n",
    "import sys\n",
    "from google.cloud import storage\n",
    "import os\n",
    "import pandas as pd\n",
    "from termcolor import colored\n",
    "os.environ['GOOGLE_APPLICATION_CREDENTIALS'] = './ethereum-data-nero.json'"
   ]
  },
  {
   "cell_type": "code",
   "execution_count": null,
   "id": "f40f9024",
   "metadata": {},
   "outputs": [],
   "source": [
    "def get_last_hash():\n",
    "    with open(\"config/last_upload.txt\", \"r\") as file:\n",
    "        lastHash = str(file.read().strip())\n",
    "    return lastHash\n",
    "\n",
    "def write_last_hash(h):\n",
    "    with open(\"config/last_upload.txt\", \"w\") as file:\n",
    "        file.write(h)\n",
    "    return \n",
    "\n",
    "def get_last_optimization():\n",
    "    with open(\"config/last_optimization.txt\", \"r\") as file:\n",
    "        lastOpt = int(file.read().strip())\n",
    "    return lastOpt\n",
    "\n",
    "def write_last_optimization(ts):\n",
    "    with open(\"config/last_optimization.txt\", \"w\") as file:\n",
    "        file.write(ts)\n",
    "    return \n",
    "\n",
    "def get_active_stakers():\n",
    "    print(\"|--- determining stakers...\")\n",
    "    stakers = pd.read_csv(\"stakers.csv\")\n",
    "    withdrawers = pd.read_csv(\"withdrawers.csv\")\n",
    "    stakers = stakers.groupby(\"address\")[\"blockNumber\"].max().reset_index()\n",
    "    withdrawers = withdrawers.groupby(\"address\")[\"blockNumber\"].max().reset_index()\n",
    "    for ix, withdrawer in withdrawers.iterrows():\n",
    "        _stakers = stakers[stakers[\"blockNumber\"] > withdrawer[\"blockNumber\"]]\n",
    "        if withdrawer[\"address\"] in _stakers:\n",
    "            continue\n",
    "        stakers = stakers[stakers[\"address\"] != withdrawer[\"address\"]]\n",
    "    print(colored(\"|--- finished determining stakers.\", \"green\"))\n",
    "    return set(stakers[\"address\"])\n",
    "    \n",
    "\n",
    "def optimize_announcements(df):\n",
    "    print(\"|- optimizing announcements...\")\n",
    "    knownStakers = get_active_stakers()\n",
    "    df[\"staker\"] = df[\"sender\"].apply(lambda x: 1 if x in knownStakers else 0)\n",
    "    df_c = df.groupby(\"sender\")[\"metadata\"].count().reset_index().rename(columns={\"metadata\": \"senderCount\"})\n",
    "    df = pd.merge(df, df_c, on=\"sender\", how=\"left\")\n",
    "    df = df.sort_values([\"staker\", \"senderCount\", \"blockNumber\"], ascending=[False, True, False])\n",
    "    df.drop([\"senderCount\", \"staker\"], axis=1, inplace=True)\n",
    "    df.to_csv(\"announcements.csv\", index=None)\n",
    "    print(colored(\"|- finished optimizing announcements.\", \"green\"))\n",
    "    return df\n",
    "\n",
    "def blob_upload(announcements):\n",
    "    print(\"|- uploading announcements...\")\n",
    "    client = storage.Client()\n",
    "    bucket = client.get_bucket(\"eip5564_data\")\n",
    "    blob = bucket.get_blob(\"announcements.csv\")\n",
    "    blob.upload_from_string(announcements.to_csv())\n",
    "    print(colored(\"|- finished uploading announcements.\", \"green\"))\n",
    "\n",
    "def optimize_and_upload():\n",
    "    print(colored(\"----optimizer-start----\", \"green\"))\n",
    "    if int(time.time()) < get_last_optimization() + 12:\n",
    "        return\n",
    "    print(\"start processing announcements:\")\n",
    "    announcements = pd.read_csv(\"announcements.csv\")\n",
    "    if str(pd.util.hash_pandas_object(announcements).sum()) == get_last_hash():\n",
    "        print(colored(\"nothing to do.                    \", \"grey\"))        \n",
    "        return\n",
    "    \n",
    "    announcements = optimize_announcements(announcements)\n",
    "    blob_upload(announcements)\n",
    "    write_last_hash(str(pd.util.hash_pandas_object(announcements).sum()))\n",
    "    write_last_optimization(str(int(time.time())))\n",
    "    print(colored(\"finished processing announcements.\", \"green\"))\n",
    "    print(colored(\"----optimizer--end-----\", \"green\"))"
   ]
  },
  {
   "cell_type": "code",
   "execution_count": null,
   "id": "0f033855",
   "metadata": {
    "scrolled": true
   },
   "outputs": [],
   "source": [
    "if __name__ == \"__main__\":\n",
    "    optimize_and_upload()"
   ]
  },
  {
   "cell_type": "code",
   "execution_count": null,
   "id": "ad0fe6f6",
   "metadata": {},
   "outputs": [],
   "source": []
  }
 ],
 "metadata": {
  "kernelspec": {
   "display_name": "mev",
   "language": "python",
   "name": "mev"
  },
  "language_info": {
   "codemirror_mode": {
    "name": "ipython",
    "version": 3
   },
   "file_extension": ".py",
   "mimetype": "text/x-python",
   "name": "python",
   "nbconvert_exporter": "python",
   "pygments_lexer": "ipython3",
   "version": "3.8.9"
  }
 },
 "nbformat": 4,
 "nbformat_minor": 5
}
