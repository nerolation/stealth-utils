{
 "cells": [
  {
   "cell_type": "code",
   "execution_count": null,
   "id": "3b18b598",
   "metadata": {},
   "outputs": [
    {
     "name": "stdout",
     "output_type": "stream",
     "text": [
      " * Serving Flask app '__main__'\n",
      " * Debug mode: off\n"
     ]
    },
    {
     "name": "stderr",
     "output_type": "stream",
     "text": [
      "\u001b[31m\u001b[1mWARNING: This is a development server. Do not use it in a production deployment. Use a production WSGI server instead.\u001b[0m\n",
      " * Running on http://127.0.0.1:5000\n",
      "\u001b[33mPress CTRL+C to quit\u001b[0m\n",
      "127.0.0.1 - - [06/Feb/2023 10:42:16] \"OPTIONS /parse HTTP/1.1\" 200 -\n",
      "127.0.0.1 - - [06/Feb/2023 10:42:16] \"GET /parse HTTP/1.1\" 200 -\n"
     ]
    }
   ],
   "source": [
    "from flask import Flask, jsonify\n",
    "from flask_cors import CORS\n",
    "import pandas as pd\n",
    "\n",
    "app = Flask(__name__)\n",
    "CORS(app)\n",
    "\n",
    "@app.route(\"/parse\", methods=[\"GET\"])\n",
    "def parse():\n",
    "    # Your code to generate the JSON object with arrays\n",
    "    response = {\n",
    "        \"array1\": [i.values.tolist() for ix, i in pd.read_csv(\"announcements.csv\").iterrows()]\n",
    "    }\n",
    "    return jsonify(response)\n",
    "\n",
    "if __name__ == \"__main__\":\n",
    "    app.run()\n",
    "\n"
   ]
  },
  {
   "cell_type": "code",
   "execution_count": 9,
   "id": "fe235998",
   "metadata": {},
   "outputs": [
    {
     "data": {
      "text/plain": [
       "[['0x03c6047f9441ed7d6d3045406e95c07cd85c778e4b8cef3ca7abac09b95c709ee5',\n",
       "  '0xf9e83c64859678918d08482a4d1cc5b39fd67b09',\n",
       "  '0x01'],\n",
       " ['0x03c6047f9441ed7d6d3045406e95c07cd85c778e4b8cef3ca7abac09b95c709ee5',\n",
       "  '0xf9e83c64859678918d08482a4d1cc5b39fd67b09',\n",
       "  '0x01'],\n",
       " ['0x03c6047f9441ed7d6d3045406e95c07cd85c778e4b8cef3ca7abac09b95c709ee5',\n",
       "  '0xf9e83c64859678918d08482a4d1cc5b39fd67b09',\n",
       "  '0x01'],\n",
       " ['0x03c6047f9441ed7d6d3045406e95c07cd85c778e4b8cef3ca7abac09b95c709ee5',\n",
       "  '0xf9e83c64859678918d08482a4d1cc5b39fd67b09',\n",
       "  '0x01'],\n",
       " ['0x03c6047f9441ed7d6d3045406e95c07cd85c778e4b8cef3ca7abac09b95c709ee5',\n",
       "  '0xf9e83c64859678918d08482a4d1cc5b39fd67b09',\n",
       "  '0x01'],\n",
       " ['0x03c6047f9441ed7d6d3045406e95c07cd85c778e4b8cef3ca7abac09b95c709ee5',\n",
       "  '0xf9e83c64859678918d08482a4d1cc5b39fd67b09',\n",
       "  '0x01'],\n",
       " ['0x03c6047f9441ed7d6d3045406e95c07cd85c778e4b8cef3ca7abac09b95c709ee5',\n",
       "  '0xf9e83c64859678918d08482a4d1cc5b39fd67b09',\n",
       "  '0x01'],\n",
       " ['0x03c6047f9441ed7d6d3045406e95c07cd85c778e4b8cef3ca7abac09b95c709ee5',\n",
       "  '0xf9e83c64859678918d08482a4d1cc5b39fd67b09',\n",
       "  '0x01'],\n",
       " ['0x03c6047f9441ed7d6d3045406e95c07cd85c778e4b8cef3ca7abac09b95c709ee5',\n",
       "  '0xf9e83c64859678918d08482a4d1cc5b39fd67b09',\n",
       "  '0x01'],\n",
       " ['0x03c6047f9441ed7d6d3045406e95c07cd85c778e4b8cef3ca7abac09b95c709ee5',\n",
       "  '0xf9e83c64859678918d08482a4d1cc5b39fd67b09',\n",
       "  '0x01'],\n",
       " ['0x03c6047f9441ed7d6d3045406e95c07cd85c778e4b8cef3ca7abac09b95c709ee5',\n",
       "  '0xf9e83c64859678918d08482a4d1cc5b39fd67b09',\n",
       "  '0x01'],\n",
       " ['0x03c6047f9441ed7d6d3045406e95c07cd85c778e4b8cef3ca7abac09b95c709ee5',\n",
       "  '0xf9e83c64859678918d08482a4d1cc5b39fd67b09',\n",
       "  '0x01'],\n",
       " ['0x03c6047f9441ed7d6d3045406e95c07cd85c778e4b8cef3ca7abac09b95c709ee5',\n",
       "  '0xf9e83c64859678918d08482a4d1cc5b39fd67b09',\n",
       "  '0x01'],\n",
       " ['0x03c6047f9441ed7d6d3045406e95c07cd85c778e4b8cef3ca7abac09b95c709ee5',\n",
       "  '0xf9e83c64859678918d08482a4d1cc5b39fd67b09',\n",
       "  '0x01'],\n",
       " ['0x03c6047f9441ed7d6d3045406e95c07cd85c778e4b8cef3ca7abac09b95c709ee5',\n",
       "  '0xf9e83c64859678918d08482a4d1cc5b39fd67b09',\n",
       "  '0x01'],\n",
       " ['0x03c6047f9441ed7d6d3045406e95c07cd85c778e4b8cef3ca7abac09b95c709ee5',\n",
       "  '0xf9e83c64859678918d08482a4d1cc5b39fd67b09',\n",
       "  '0x01'],\n",
       " ['0x03c6047f9441ed7d6d3045406e95c07cd85c778e4b8cef3ca7abac09b95c709ee5',\n",
       "  '0xf9e83c64859678918d08482a4d1cc5b39fd67b09',\n",
       "  '0x01'],\n",
       " ['0x03c6047f9441ed7d6d3045406e95c07cd85c778e4b8cef3ca7abac09b95c709ee5',\n",
       "  '0xf9e83c64859678918d08482a4d1cc5b39fd67b09',\n",
       "  '0x01'],\n",
       " ['0x03c6047f9441ed7d6d3045406e95c07cd85c778e4b8cef3ca7abac09b95c709ee5',\n",
       "  '0xf9e83c64859678918d08482a4d1cc5b39fd67b09',\n",
       "  '0x01'],\n",
       " ['0x03c6047f9441ed7d6d3045406e95c07cd85c778e4b8cef3ca7abac09b95c709ee5',\n",
       "  '0xf9e83c64859678918d08482a4d1cc5b39fd67b09',\n",
       "  '0x01'],\n",
       " ['0x03c6047f9441ed7d6d3045406e95c07cd85c778e4b8cef3ca7abac09b95c709ee5',\n",
       "  '0xf9e83c64859678918d08482a4d1cc5b39fd67b09',\n",
       "  '0x01'],\n",
       " ['0x03c6047f9441ed7d6d3045406e95c07cd85c778e4b8cef3ca7abac09b95c709ee5',\n",
       "  '0xf9e83c64859678918d08482a4d1cc5b39fd67b09',\n",
       "  '0x01'],\n",
       " ['0x03c6047f9441ed7d6d3045406e95c07cd85c778e4b8cef3ca7abac09b95c709ee5',\n",
       "  '0xf9e83c64859678918d08482a4d1cc5b39fd67b09',\n",
       "  '0x01'],\n",
       " ['0x03c6047f9441ed7d6d3045406e95c07cd85c778e4b8cef3ca7abac09b95c709ee5',\n",
       "  '0xf9e83c64859678918d08482a4d1cc5b39fd67b09',\n",
       "  '0x01'],\n",
       " ['0x03c6047f9441ed7d6d3045406e95c07cd85c778e4b8cef3ca7abac09b95c709ee5',\n",
       "  '0xf9e83c64859678918d08482a4d1cc5b39fd67b09',\n",
       "  '0x01'],\n",
       " ['0x03c6047f9441ed7d6d3045406e95c07cd85c778e4b8cef3ca7abac09b95c709ee5',\n",
       "  '0xf9e83c64859678918d08482a4d1cc5b39fd67b09',\n",
       "  '0x01'],\n",
       " ['0x03c6047f9441ed7d6d3045406e95c07cd85c778e4b8cef3ca7abac09b95c709ee5',\n",
       "  '0xf9e83c64859678918d08482a4d1cc5b39fd67b09',\n",
       "  '0x01'],\n",
       " ['0x03c6047f9441ed7d6d3045406e95c07cd85c778e4b8cef3ca7abac09b95c709ee5',\n",
       "  '0xf9e83c64859678918d08482a4d1cc5b39fd67b09',\n",
       "  '0x01'],\n",
       " ['0x03c6047f9441ed7d6d3045406e95c07cd85c778e4b8cef3ca7abac09b95c709ee5',\n",
       "  '0xf9e83c64859678918d08482a4d1cc5b39fd67b09',\n",
       "  '0x01'],\n",
       " ['0x03c6047f9441ed7d6d3045406e95c07cd85c778e4b8cef3ca7abac09b95c709ee5',\n",
       "  '0xf9e83c64859678918d08482a4d1cc5b39fd67b09',\n",
       "  '0x01'],\n",
       " ['0x032cd7e0f76ca2a5ccb1637a31b2a07573dfa5f8aaf8f670e9561688e188bb3d7a',\n",
       "  '0xf9e83c64859678918d08472a4d1cc5b39fd67b09',\n",
       "  '0x01']]"
      ]
     },
     "execution_count": 9,
     "metadata": {},
     "output_type": "execute_result"
    }
   ],
   "source": [
    "[i.values.tolist() for ix, i in pd.read_csv(\"announcements.csv\").iterrows()]"
   ]
  },
  {
   "cell_type": "code",
   "execution_count": 4,
   "id": "1a92dfdb",
   "metadata": {},
   "outputs": [
    {
     "name": "stdout",
     "output_type": "stream",
     "text": [
      "Collecting pandas\n",
      "  Downloading pandas-1.5.3-cp310-cp310-manylinux_2_17_x86_64.manylinux2014_x86_64.whl (12.1 MB)\n",
      "\u001b[2K     \u001b[38;2;114;156;31m━━━━━━━━━━━━━━━━━━━━━━━━━━━━━━━━━━━━━━━━\u001b[0m \u001b[32m12.1/12.1 MB\u001b[0m \u001b[31m2.4 MB/s\u001b[0m eta \u001b[36m0:00:00\u001b[0mm eta \u001b[36m0:00:01\u001b[0m[36m0:00:01\u001b[0m\n",
      "\u001b[?25hCollecting pytz>=2020.1\n",
      "  Downloading pytz-2022.7.1-py2.py3-none-any.whl (499 kB)\n",
      "\u001b[2K     \u001b[38;2;114;156;31m━━━━━━━━━━━━━━━━━━━━━━━━━━━━━━━━━━━━━━━\u001b[0m \u001b[32m499.4/499.4 KB\u001b[0m \u001b[31m1.2 MB/s\u001b[0m eta \u001b[36m0:00:00\u001b[0m[36m0:00:01\u001b[0mm eta \u001b[36m0:00:01\u001b[0m\n",
      "\u001b[?25hCollecting numpy>=1.21.0\n",
      "  Downloading numpy-1.24.1-cp310-cp310-manylinux_2_17_x86_64.manylinux2014_x86_64.whl (17.3 MB)\n",
      "\u001b[2K     \u001b[38;2;114;156;31m━━━━━━━━━━━━━━━━━━━━━━━━━━━━━━━━━━━━━━━━\u001b[0m \u001b[32m17.3/17.3 MB\u001b[0m \u001b[31m2.3 MB/s\u001b[0m eta \u001b[36m0:00:00\u001b[0mm eta \u001b[36m0:00:01\u001b[0m[36m0:00:01\u001b[0m\n",
      "\u001b[?25hRequirement already satisfied: python-dateutil>=2.8.1 in ./eip/lib/python3.10/site-packages (from pandas) (2.8.2)\n",
      "Requirement already satisfied: six>=1.5 in ./eip/lib/python3.10/site-packages (from python-dateutil>=2.8.1->pandas) (1.16.0)\n",
      "Installing collected packages: pytz, numpy, pandas\n",
      "Successfully installed numpy-1.24.1 pandas-1.5.3 pytz-2022.7.1\n"
     ]
    }
   ],
   "source": [
    "!pip install pandas\n"
   ]
  },
  {
   "cell_type": "code",
   "execution_count": null,
   "id": "52807286",
   "metadata": {},
   "outputs": [],
   "source": []
  }
 ],
 "metadata": {
  "kernelspec": {
   "display_name": "eip2",
   "language": "python",
   "name": "eip2"
  },
  "language_info": {
   "codemirror_mode": {
    "name": "ipython",
    "version": 3
   },
   "file_extension": ".py",
   "mimetype": "text/x-python",
   "name": "python",
   "nbconvert_exporter": "python",
   "pygments_lexer": "ipython3",
   "version": "3.10.6"
  }
 },
 "nbformat": 4,
 "nbformat_minor": 5
}
